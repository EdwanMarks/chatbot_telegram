{
  "nbformat": 4,
  "nbformat_minor": 0,
  "metadata": {
    "colab": {
      "provenance": [],
      "authorship_tag": "ABX9TyOhGubtMnTzcSwn+ii9Xb+Q",
      "include_colab_link": true
    },
    "kernelspec": {
      "name": "python3",
      "display_name": "Python 3"
    },
    "language_info": {
      "name": "python"
    }
  },
  "cells": [
    {
      "cell_type": "markdown",
      "metadata": {
        "id": "view-in-github",
        "colab_type": "text"
      },
      "source": [
        "<a href=\"https://colab.research.google.com/github/gladson-sza/chatbot_telegram/blob/master/telegram_bot_refined_application.ipynb\" target=\"_parent\"><img src=\"https://colab.research.google.com/assets/colab-badge.svg\" alt=\"Open In Colab\"/></a>"
      ]
    },
    {
      "cell_type": "markdown",
      "source": [
        "#Instalação de Pacotes"
      ],
      "metadata": {
        "id": "u394y6sJseky"
      }
    },
    {
      "cell_type": "code",
      "execution_count": 1,
      "metadata": {
        "colab": {
          "base_uri": "https://localhost:8080/"
        },
        "id": "gDI91lX0xtfb",
        "outputId": "64c84f8a-42d1-4f6a-c3ee-7047588d1ba1"
      },
      "outputs": [
        {
          "output_type": "stream",
          "name": "stdout",
          "text": [
            "Looking in indexes: https://pypi.org/simple, https://us-python.pkg.dev/colab-wheels/public/simple/\n",
            "Collecting pytelegrambotapi\n",
            "  Downloading pyTelegramBotAPI-4.9.0.tar.gz (219 kB)\n",
            "\u001b[2K     \u001b[90m━━━━━━━━━━━━━━━━━━━━━━━━━━━━━━━━━━━━━━━\u001b[0m \u001b[32m219.9/219.9 KB\u001b[0m \u001b[31m2.2 MB/s\u001b[0m eta \u001b[36m0:00:00\u001b[0m\n",
            "\u001b[?25h  Preparing metadata (setup.py) ... \u001b[?25l\u001b[?25hdone\n",
            "Requirement already satisfied: requests in /usr/local/lib/python3.8/dist-packages (from pytelegrambotapi) (2.25.1)\n",
            "Requirement already satisfied: urllib3<1.27,>=1.21.1 in /usr/local/lib/python3.8/dist-packages (from requests->pytelegrambotapi) (1.24.3)\n",
            "Requirement already satisfied: idna<3,>=2.5 in /usr/local/lib/python3.8/dist-packages (from requests->pytelegrambotapi) (2.10)\n",
            "Requirement already satisfied: certifi>=2017.4.17 in /usr/local/lib/python3.8/dist-packages (from requests->pytelegrambotapi) (2022.12.7)\n",
            "Requirement already satisfied: chardet<5,>=3.0.2 in /usr/local/lib/python3.8/dist-packages (from requests->pytelegrambotapi) (4.0.0)\n",
            "Building wheels for collected packages: pytelegrambotapi\n",
            "  Building wheel for pytelegrambotapi (setup.py) ... \u001b[?25l\u001b[?25hdone\n",
            "  Created wheel for pytelegrambotapi: filename=pyTelegramBotAPI-4.9.0-py3-none-any.whl size=203107 sha256=37b8022e550ccb74eda1d993d4e7ba1772e85eb01af83268e51dab0f47e769d1\n",
            "  Stored in directory: /root/.cache/pip/wheels/95/a7/fd/f667b71e29e3f64f239f30195efc39de642e72f8a47a6fcd8d\n",
            "Successfully built pytelegrambotapi\n",
            "Installing collected packages: pytelegrambotapi\n",
            "Successfully installed pytelegrambotapi-4.9.0\n",
            "Looking in indexes: https://pypi.org/simple, https://us-python.pkg.dev/colab-wheels/public/simple/\n",
            "Collecting emoji\n",
            "  Downloading emoji-2.2.0.tar.gz (240 kB)\n",
            "\u001b[2K     \u001b[90m━━━━━━━━━━━━━━━━━━━━━━━━━━━━━━━━━━━━━━━\u001b[0m \u001b[32m240.9/240.9 KB\u001b[0m \u001b[31m4.2 MB/s\u001b[0m eta \u001b[36m0:00:00\u001b[0m\n",
            "\u001b[?25h  Preparing metadata (setup.py) ... \u001b[?25l\u001b[?25hdone\n",
            "Building wheels for collected packages: emoji\n",
            "  Building wheel for emoji (setup.py) ... \u001b[?25l\u001b[?25hdone\n",
            "  Created wheel for emoji: filename=emoji-2.2.0-py3-none-any.whl size=234926 sha256=2e49534abf06e6c8ef76305427298be3052c5bfc2b4d9fadba700d10e8d137c2\n",
            "  Stored in directory: /root/.cache/pip/wheels/86/62/9e/a6b27a681abcde69970dbc0326ff51955f3beac72f15696984\n",
            "Successfully built emoji\n",
            "Installing collected packages: emoji\n",
            "Successfully installed emoji-2.2.0\n"
          ]
        }
      ],
      "source": [
        "!pip install pytelegrambotapi\n",
        "!pip install emoji"
      ]
    },
    {
      "cell_type": "markdown",
      "source": [
        "#Procedimento de Criação do Bot"
      ],
      "metadata": {
        "id": "wxJyFquUsrS7"
      }
    },
    {
      "cell_type": "markdown",
      "source": [
        "###Geração da chave (KEY) do Telegram\n",
        "\n",
        "### Etapas:\n",
        "\n",
        "1. Abrir o Telegram (Web ou celular).\n",
        "![](https://raw.githubusercontent.com/gladson-sza/chatbot_telegram/master/telegram_screenshots/open_telegram.png)\n",
        "2. Buscar por BotFather no Telegram.\n",
        "![](https://raw.githubusercontent.com/gladson-sza/chatbot_telegram/master/telegram_screenshots/bot_father_search.png)\n",
        "3. Clicar no BotFather.\n",
        "![](https://raw.githubusercontent.com/gladson-sza/chatbot_telegram/master/telegram_screenshots/bot_father_click.png)\n",
        "4. Clicar no botão START.\n",
        "![](https://raw.githubusercontent.com/gladson-sza/chatbot_telegram/master/telegram_screenshots/bot_father_start.png)\n",
        "5. Clicar em \\newbot.\n",
        "![](https://raw.githubusercontent.com/gladson-sza/chatbot_telegram/master/telegram_screenshots/bot_father_start_click.png)\n",
        "6. Escrever (escolher) um nome para o Bot.\n",
        "![](https://raw.githubusercontent.com/gladson-sza/chatbot_telegram/master/telegram_screenshots/bot_father_choose_a_name.png)\n",
        "7. Escrever (escolher) um username para o Bot. O username deve terminar com bot e deve ser único.\n",
        "![](https://raw.githubusercontent.com/gladson-sza/chatbot_telegram/master/telegram_screenshots/bot_father_choose_a_username.png)\n",
        "8. Salvar a KEY gerada.\n",
        "![](https://raw.githubusercontent.com/gladson-sza/chatbot_telegram/master/telegram_screenshots/bot_father_key.png)"
      ],
      "metadata": {
        "id": "QDVzpAvYszKT"
      }
    },
    {
      "cell_type": "markdown",
      "source": [
        "## Importar bibliotecas, e inserir a chave (KEY) de API do Telegram"
      ],
      "metadata": {
        "id": "NrvI45JTs46b"
      }
    },
    {
      "cell_type": "code",
      "source": [
        "import telebot\n",
        "import emoji\n",
        "from telebot import types\n",
        "\n",
        "API_KEY = ''\n",
        "bot = telebot.TeleBot(API_KEY)"
      ],
      "metadata": {
        "id": "zQmSw0W5x29T"
      },
      "execution_count": 2,
      "outputs": []
    },
    {
      "cell_type": "markdown",
      "source": [
        "## Criando nossos dicionários contendo as informações que irão compor nossa base de dados"
      ],
      "metadata": {
        "id": "zL4FL3_ak742"
      }
    },
    {
      "cell_type": "code",
      "source": [
        "LIST_CITIES = 'Listar Cidades'\n",
        "LIST_ATTRACTIONS = 'Listar Atrações'\n",
        "\n",
        "city_description = {\n",
        "    'Manaus': 'Manaus, nos bancos do Rio Negro no noroeste do Brasil, é a capital do vasto estado do Amazonas. '\n",
        "              'Trata-se de um ponto de partida importante próximo à Floresta Amazônica. A leste da cidade, '\n",
        "              'o Rio Negro, escuro, converge para o Rio Solimões, barrento, resultando em um fenômeno visual '\n",
        "              'incrível chamado de \"Encontro das Águas\". A combinação dos afluentes forma o Rio Amazonas.',\n",
        "    'São Paulo': 'São Paulo, centro financeiro do Brasil, está entre as cidades mais populosas do mundo, '\n",
        "                 'com diversas instituições culturais e uma rica tradição arquitetônica. Há prédios simbólicos como '\n",
        "                 'a catedral neogótica, o Edifício Martinelli, um arranha-céu inaugurado em 1929, e o Edifício '\n",
        "                 'Copan, com suas linhas curvas projetadas pelo arquiteto modernista Oscar Niemeyer. A igreja em '\n",
        "                 'estilo colonial do Pátio do Colégio marca o local onde os padres jesuítas fundaram a cidade em '\n",
        "                 '1554.',\n",
        "    'Rio de Janeiro': 'O Rio de Janeiro é uma grande cidade brasileira à beira-mar, famosa pelas praias de '\n",
        "                      'Copacabana e Ipanema, pela estátua de 38 metros de altura do Cristo Redentor, no topo do '\n",
        "                      'Corcovado, e pelo Pão de Açúcar, um pico de granito com teleféricos até seu cume. A cidade '\n",
        "                      'também é conhecida pelas grandes favelas. O empolgante Carnaval, com carros alegóricos, '\n",
        "                      'fantasias extravagantes e sambistas, é considerado o maior do mundo.',\n",
        "    'Fortaleza': 'Fortaleza é a capital do estado do Ceará, no Nordeste brasileiro. A cidade é conhecida por suas '\n",
        "                 'praias, com falésias vermelhas, palmeiras, dunas e lagoas. As tradições folclóricas da cidade '\n",
        "                 'podem ser vistas em apresentações de dança no Theatro José de Alencar, construção em estilo art '\n",
        "                 'nouveau inaugurada em 1910. Outro destaque arquitetônico é a Catedral Metropolitana, '\n",
        "                 'em estilo neogótico. '\n",
        "}\n",
        "\n",
        "touristic_description = {\n",
        "    'Cristo Redentor': 'Cristo Redentor é uma estátua art déco que retrata Jesus Cristo, localizada no topo do '\n",
        "                       'morro do Corcovado, a 709 metros acima do nível do mar, com vista para parte considerável da '\n",
        "                       'cidade brasileira do Rio de Janeiro. Feito de concreto armado e pedra-sabão, tem '\n",
        "                       'trinta metros de altura (uma das maiores estátuas do mundo), sem contar os oito metros do '\n",
        "                       'pedestal. Seus braços se esticam por 28 metros de largura e a estrutura pesa 1145 toneladas',\n",
        "    'Teatro Amazonas': 'O Teatro Amazonas é um dos mais importantes teatros do Brasil e o principal cartão-postal '\n",
        "                       'da cidade de Manaus. Localizado no Largo de São Sebastião, no Centro Histórico, '\n",
        "                       'foi inaugurado em 1896 para atender ao desejo da elite amazonense da época, que idealizava a '\n",
        "                       'cidade à altura dos grandes centros culturais. É amplamente considerado como um dos mais '\n",
        "                       'belos teatros do mundo.',\n",
        "    'Parque Ibirapuera': 'Inaugurado em 1954 com uma área de 158 hectares (390 acres), entre as avenidas Pedro '\n",
        "                         'Álvares Cabral, República do Líbano e IV Centenário, o Parque Ibirapuera é um parque '\n",
        "                         'tombado e patrimônio histórico de São Paulo. Seus jardins foram desenhados pelo paisagista '\n",
        "                         'Otávio Augusto Teixeira Mendes, após o conceito e anteprojeto do paisagista Roberto Burle '\n",
        "                         'Marx',\n",
        "    'Beira Mar': 'Construída há pouco mais de 50 anos, a Avenida Beira-Mar é um dos principais cartões-postais de '\n",
        "                 'Fortaleza e é o local de diversão e trabalho mais valorizado na capital devido à sua orla cheia de '\n",
        "                 'luxuosos edifícios e hotéis e pelo calçadão movimentado por turistas e praticantes de atividades '\n",
        "                 'físicas. '\n",
        "}"
      ],
      "metadata": {
        "id": "W5TCoDja1WSm"
      },
      "execution_count": 3,
      "outputs": []
    },
    {
      "cell_type": "markdown",
      "source": [
        "## Escrevendo nossos comandos, adicionando botões, emojis e configurações especiais de teclado"
      ],
      "metadata": {
        "id": "JqT94GMptTeY"
      }
    },
    {
      "cell_type": "code",
      "source": [
        "def show_cities(message):\n",
        "    markup = types.ReplyKeyboardMarkup(one_time_keyboard=True)\n",
        "\n",
        "    for key in city_description.keys():\n",
        "        markup.row(types.KeyboardButton(key))\n",
        "\n",
        "    bot.reply_to(\n",
        "        message,\n",
        "        emoji.emojize('Cidades disponíveis para consulta :post_office:'),\n",
        "        reply_markup=markup\n",
        "    )\n",
        "\n",
        "\n",
        "def show_city_description(message):\n",
        "    bot.send_message(message.chat.id, city_description[message.text])\n",
        "    presentation(message)\n",
        "\n",
        "\n",
        "def show_touristic_locations(message):\n",
        "    markup = types.ReplyKeyboardMarkup(one_time_keyboard=True)\n",
        "\n",
        "    for key in touristic_description.keys():\n",
        "        markup.row(types.KeyboardButton(key))\n",
        "\n",
        "    bot.reply_to(\n",
        "        message,\n",
        "        emoji.emojize('Atrações disponíveis para consulta :church:'),\n",
        "        reply_markup=markup)\n",
        "\n",
        "\n",
        "def show_touristic_description(message):\n",
        "    bot.send_message(message.chat.id, touristic_description[message.text])\n",
        "    presentation(message)\n",
        "\n",
        "\n",
        "def presentation(message):\n",
        "    markup = types.ReplyKeyboardMarkup(one_time_keyboard=True)\n",
        "    cities = types.KeyboardButton(LIST_CITIES)\n",
        "    attractions = types.KeyboardButton(LIST_ATTRACTIONS)\n",
        "\n",
        "    markup.row(cities)\n",
        "    markup.row(attractions)\n",
        "\n",
        "    bot.reply_to(\n",
        "        message,\n",
        "        emoji.emojize('Olá, seja bem vindo ao nosso catálogo de atrações turísticas :house_with_garden:'),\n",
        "        reply_markup=markup\n",
        "    )\n"
      ],
      "metadata": {
        "id": "wzHLP4eF8EjW"
      },
      "execution_count": 4,
      "outputs": []
    },
    {
      "cell_type": "markdown",
      "source": [
        "## Criando um handler especial para lidar com nossos novos comandos"
      ],
      "metadata": {
        "id": "PqP4lfvVtN4w"
      }
    },
    {
      "cell_type": "code",
      "source": [
        "@bot.message_handler(func=lambda message: True)\n",
        "def default(message):\n",
        "    if message.text == LIST_CITIES:\n",
        "        show_cities(message)\n",
        "    elif message.text == LIST_ATTRACTIONS:\n",
        "        show_touristic_locations(message)\n",
        "    elif message.text in city_description.keys():\n",
        "        show_city_description(message)\n",
        "    elif message.text in touristic_description.keys():\n",
        "        show_touristic_description(message)\n",
        "    else:\n",
        "        presentation(message)\n"
      ],
      "metadata": {
        "id": "3lIJQJBo1Wfk"
      },
      "execution_count": 5,
      "outputs": []
    },
    {
      "cell_type": "code",
      "source": [
        "bot.polling()"
      ],
      "metadata": {
        "id": "srzw2EBHyjlt",
        "colab": {
          "base_uri": "https://localhost:8080/"
        },
        "outputId": "38f906d3-7567-46d7-8952-e3cbfe99d9aa"
      },
      "execution_count": 6,
      "outputs": [
        {
          "output_type": "stream",
          "name": "stderr",
          "text": [
            "2023-01-13 14:10:53,987 (__init__.py:1083 MainThread) ERROR - TeleBot: \"Threaded polling exception: A request to the Telegram API was unsuccessful. Error code: 401. Description: Unauthorized\"\n",
            "ERROR:TeleBot:Threaded polling exception: A request to the Telegram API was unsuccessful. Error code: 401. Description: Unauthorized\n",
            "2023-01-13 14:10:53,996 (__init__.py:1085 MainThread) ERROR - TeleBot: \"Exception traceback:\n",
            "Traceback (most recent call last):\n",
            "  File \"/usr/local/lib/python3.8/dist-packages/telebot/__init__.py\", line 1073, in __threaded_polling\n",
            "    polling_thread.raise_exceptions()\n",
            "  File \"/usr/local/lib/python3.8/dist-packages/telebot/util.py\", line 118, in raise_exceptions\n",
            "    raise self.exception_info\n",
            "  File \"/usr/local/lib/python3.8/dist-packages/telebot/util.py\", line 100, in run\n",
            "    task(*args, **kwargs)\n",
            "  File \"/usr/local/lib/python3.8/dist-packages/telebot/__init__.py\", line 649, in __retrieve_updates\n",
            "    updates = self.get_updates(offset=(self.last_update_id + 1),\n",
            "  File \"/usr/local/lib/python3.8/dist-packages/telebot/__init__.py\", line 623, in get_updates\n",
            "    json_updates = apihelper.get_updates(self.token, offset, limit, timeout, allowed_updates, long_polling_timeout)\n",
            "  File \"/usr/local/lib/python3.8/dist-packages/telebot/apihelper.py\", line 321, in get_updates\n",
            "    return _make_request(token, method_url, params=payload)\n",
            "  File \"/usr/local/lib/python3.8/dist-packages/telebot/apihelper.py\", line 162, in _make_request\n",
            "    json_result = _check_result(method_name, result)\n",
            "  File \"/usr/local/lib/python3.8/dist-packages/telebot/apihelper.py\", line 189, in _check_result\n",
            "    raise ApiTelegramException(method_name, result, result_json)\n",
            "telebot.apihelper.ApiTelegramException: A request to the Telegram API was unsuccessful. Error code: 401. Description: Unauthorized\n",
            "\"\n",
            "ERROR:TeleBot:Exception traceback:\n",
            "Traceback (most recent call last):\n",
            "  File \"/usr/local/lib/python3.8/dist-packages/telebot/__init__.py\", line 1073, in __threaded_polling\n",
            "    polling_thread.raise_exceptions()\n",
            "  File \"/usr/local/lib/python3.8/dist-packages/telebot/util.py\", line 118, in raise_exceptions\n",
            "    raise self.exception_info\n",
            "  File \"/usr/local/lib/python3.8/dist-packages/telebot/util.py\", line 100, in run\n",
            "    task(*args, **kwargs)\n",
            "  File \"/usr/local/lib/python3.8/dist-packages/telebot/__init__.py\", line 649, in __retrieve_updates\n",
            "    updates = self.get_updates(offset=(self.last_update_id + 1),\n",
            "  File \"/usr/local/lib/python3.8/dist-packages/telebot/__init__.py\", line 623, in get_updates\n",
            "    json_updates = apihelper.get_updates(self.token, offset, limit, timeout, allowed_updates, long_polling_timeout)\n",
            "  File \"/usr/local/lib/python3.8/dist-packages/telebot/apihelper.py\", line 321, in get_updates\n",
            "    return _make_request(token, method_url, params=payload)\n",
            "  File \"/usr/local/lib/python3.8/dist-packages/telebot/apihelper.py\", line 162, in _make_request\n",
            "    json_result = _check_result(method_name, result)\n",
            "  File \"/usr/local/lib/python3.8/dist-packages/telebot/apihelper.py\", line 189, in _check_result\n",
            "    raise ApiTelegramException(method_name, result, result_json)\n",
            "telebot.apihelper.ApiTelegramException: A request to the Telegram API was unsuccessful. Error code: 401. Description: Unauthorized\n",
            "\n"
          ]
        }
      ]
    }
  ]
}