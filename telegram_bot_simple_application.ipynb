{
  "nbformat": 4,
  "nbformat_minor": 0,
  "metadata": {
    "colab": {
      "provenance": [],
      "authorship_tag": "ABX9TyNPgasMOxBHuFadrAEUqcF+",
      "include_colab_link": true
    },
    "kernelspec": {
      "name": "python3",
      "display_name": "Python 3"
    },
    "language_info": {
      "name": "python"
    }
  },
  "cells": [
    {
      "cell_type": "markdown",
      "metadata": {
        "id": "view-in-github",
        "colab_type": "text"
      },
      "source": [
        "<a href=\"https://colab.research.google.com/github/gladson-sza/chatbot_telegram/blob/master/telegram_bot_simple_application.ipynb\" target=\"_parent\"><img src=\"https://colab.research.google.com/assets/colab-badge.svg\" alt=\"Open In Colab\"/></a>"
      ]
    },
    {
      "cell_type": "code",
      "execution_count": null,
      "metadata": {
        "colab": {
          "base_uri": "https://localhost:8080/"
        },
        "id": "gDI91lX0xtfb",
        "outputId": "04efefc2-c003-4129-a31c-ddb562f99343"
      },
      "outputs": [
        {
          "output_type": "stream",
          "name": "stdout",
          "text": [
            "Looking in indexes: https://pypi.org/simple, https://us-python.pkg.dev/colab-wheels/public/simple/\n",
            "Collecting pytelegrambotapi\n",
            "  Downloading pyTelegramBotAPI-4.7.1.tar.gz (213 kB)\n",
            "\u001b[K     |████████████████████████████████| 213 kB 32.0 MB/s \n",
            "\u001b[?25hRequirement already satisfied: requests in /usr/local/lib/python3.7/dist-packages (from pytelegrambotapi) (2.23.0)\n",
            "Requirement already satisfied: certifi>=2017.4.17 in /usr/local/lib/python3.7/dist-packages (from requests->pytelegrambotapi) (2022.9.24)\n",
            "Requirement already satisfied: idna<3,>=2.5 in /usr/local/lib/python3.7/dist-packages (from requests->pytelegrambotapi) (2.10)\n",
            "Requirement already satisfied: chardet<4,>=3.0.2 in /usr/local/lib/python3.7/dist-packages (from requests->pytelegrambotapi) (3.0.4)\n",
            "Requirement already satisfied: urllib3!=1.25.0,!=1.25.1,<1.26,>=1.21.1 in /usr/local/lib/python3.7/dist-packages (from requests->pytelegrambotapi) (1.24.3)\n",
            "Building wheels for collected packages: pytelegrambotapi\n",
            "  Building wheel for pytelegrambotapi (setup.py) ... \u001b[?25l\u001b[?25hdone\n",
            "  Created wheel for pytelegrambotapi: filename=pyTelegramBotAPI-4.7.1-py3-none-any.whl size=196987 sha256=9602a741bcc40ecc4ddf791eae8c9421b5ff53b236cb4660a8fac7e6c7c72bc5\n",
            "  Stored in directory: /root/.cache/pip/wheels/84/72/5f/8a7b3ca1ef1250002cf3bac48e0c72c5ee5c9596a5b1295dc1\n",
            "Successfully built pytelegrambotapi\n",
            "Installing collected packages: pytelegrambotapi\n",
            "Successfully installed pytelegrambotapi-4.7.1\n"
          ]
        }
      ],
      "source": [
        "!pip install pytelegrambotapi"
      ]
    },
    {
      "cell_type": "code",
      "source": [
        "import telebot\n",
        "\n",
        "API_KEY = ''\n",
        "bot = telebot.TeleBot(API_KEY)"
      ],
      "metadata": {
        "id": "zQmSw0W5x29T"
      },
      "execution_count": null,
      "outputs": []
    },
    {
      "cell_type": "code",
      "source": [
        "# FAKE DATABASE CIDADES\n",
        "city_command = ['manaus',\n",
        "                'sao_paulo',\n",
        "                'rio_de_janeiro',\n",
        "                'fortaleza']\n",
        "\n",
        "city_dict = {\n",
        "    '/manaus': 'Manaus',\n",
        "    '/sao_paulo': 'São Paulo',\n",
        "    '/rio_de_janeiro': 'Rio de Janeiro',\n",
        "    '/fortaleza': 'Fortaleza'\n",
        "}\n",
        "\n",
        "city_description = {\n",
        "    '/manaus': 'Manaus, nos bancos do Rio Negro no noroeste do Brasil, é a capital do vasto estado do Amazonas. '\n",
        "               'Trata-se de um ponto de partida importante próximo à Floresta Amazônica. A leste da cidade, '\n",
        "               'o Rio Negro, escuro, converge para o Rio Solimões, barrento, resultando em um fenômeno visual '\n",
        "               'incrível chamado de \"Encontro das Águas\". A combinação dos afluentes forma o Rio Amazonas.',\n",
        "    '/sao_paulo': 'São Paulo, centro financeiro do Brasil, está entre as cidades mais populosas do mundo, '\n",
        "                  'com diversas instituições culturais e uma rica tradição arquitetônica. Há prédios simbólicos como '\n",
        "                  'a catedral neogótica, o Edifício Martinelli, um arranha-céu inaugurado em 1929, e o Edifício '\n",
        "                  'Copan, com suas linhas curvas projetadas pelo arquiteto modernista Oscar Niemeyer. A igreja em '\n",
        "                  'estilo colonial do Pátio do Colégio marca o local onde os padres jesuítas fundaram a cidade em '\n",
        "                  '1554.',\n",
        "    '/rio_de_janeiro': 'O Rio de Janeiro é uma grande cidade brasileira à beira-mar, famosa pelas praias de '\n",
        "                       'Copacabana e Ipanema, pela estátua de 38 metros de altura do Cristo Redentor, no topo do '\n",
        "                       'Corcovado, e pelo Pão de Açúcar, um pico de granito com teleféricos até seu cume. A cidade '\n",
        "                       'também é conhecida pelas grandes favelas. O empolgante Carnaval, com carros alegóricos, '\n",
        "                       'fantasias extravagantes e sambistas, é considerado o maior do mundo.',\n",
        "    '/fortaleza': 'Fortaleza é a capital do estado do Ceará, no Nordeste brasileiro. A cidade é conhecida por suas '\n",
        "                  'praias, com falésias vermelhas, palmeiras, dunas e lagoas. As tradições folclóricas da cidade '\n",
        "                  'podem ser vistas em apresentações de dança no Theatro José de Alencar, construção em estilo art '\n",
        "                  'nouveau inaugurada em 1910. Outro destaque arquitetônico é a Catedral Metropolitana, '\n",
        "                  'em estilo neogótico. '"
      ],
      "metadata": {
        "id": "W5TCoDja1WSm"
      },
      "execution_count": null,
      "outputs": []
    },
    {
      "cell_type": "code",
      "source": [
        "# FAKE DATABASE PONTOS TURÍSTICOS\n",
        "touristic_command = ['cristo_redentor',\n",
        "                     'teatro_amazonas',\n",
        "                     'parque_ibirapuera',\n",
        "                     'beira_mar']\n",
        "\n",
        "touristic_dict = {\n",
        "    '/cristo_redentor': 'Cristo Redentor',\n",
        "    '/teatro_amazonas': 'Teatro Amazonas',\n",
        "    '/parque_ibirapuera': 'Parque Ibirapuera',\n",
        "    '/beira_mar': 'Beira Mar'\n",
        "}\n",
        "\n",
        "touristic_description = {\n",
        "    '/cristo_redentor': 'Cristo Redentor é uma estátua art déco que retrata Jesus Cristo, localizada no topo do '\n",
        "                        'morro do Corcovado, a 709 metros acima do nível do mar, com vista para parte considerável da '\n",
        "                        'cidade brasileira do Rio de Janeiro. Feito de concreto armado e pedra-sabão, tem '\n",
        "                        'trinta metros de altura (uma das maiores estátuas do mundo), sem contar os oito metros do '\n",
        "                        'pedestal. Seus braços se esticam por 28 metros de largura e a estrutura pesa 1145 toneladas',\n",
        "    '/teatro_amazonas': 'O Teatro Amazonas é um dos mais importantes teatros do Brasil e o principal cartão-postal '\n",
        "                        'da cidade de Manaus. Localizado no Largo de São Sebastião, no Centro Histórico, '\n",
        "                        'foi inaugurado em 1896 para atender ao desejo da elite amazonense da época, que idealizava a '\n",
        "                        'cidade à altura dos grandes centros culturais. É amplamente considerado como um dos mais '\n",
        "                        'belos teatros do mundo.',\n",
        "    '/parque_ibirapuera': 'Inaugurado em 1954 com uma área de 158 hectares (390 acres), entre as avenidas Pedro '\n",
        "                          'Álvares Cabral, República do Líbano e IV Centenário, o Parque Ibirapuera é um parque '\n",
        "                          'tombado e patrimônio histórico de São Paulo. Seus jardins foram desenhados pelo paisagista '\n",
        "                          'Otávio Augusto Teixeira Mendes, após o conceito e anteprojeto do paisagista Roberto Burle '\n",
        "                          'Marx',\n",
        "    '/beira_mar': 'Construída há pouco mais de 50 anos, a Avenida Beira-Mar é um dos principais cartões-postais de '\n",
        "                  'Fortaleza e é o local de diversão e trabalho mais valorizado na capital devido à sua orla cheia de '\n",
        "                  'luxuosos edifícios e hotéis e pelo calçadão movimentado por turistas e praticantes de atividades '\n",
        "                  'físicas. '\n",
        "}"
      ],
      "metadata": {
        "id": "WCrPMmz9f7gI"
      },
      "execution_count": null,
      "outputs": []
    },
    {
      "cell_type": "code",
      "source": [
        "@bot.message_handler(commands=['listar_cidades'])\n",
        "def show_cities(message):\n",
        "    reply_message = ''\n",
        "    for item in city_dict.items():\n",
        "        reply_message += f'{item[0]} - {item[1]}\\n'\n",
        "\n",
        "    bot.reply_to(message, reply_message)\n",
        "\n",
        "\n",
        "@bot.message_handler(commands=city_command)\n",
        "def show_city_description(message):\n",
        "    bot.reply_to(message, city_description[message.text])\n",
        "\n",
        "\n",
        "@bot.message_handler(commands=['lista_de_atracoes'])\n",
        "def show_touristic_locations(message):\n",
        "    reply_message = ''\n",
        "    for item in touristic_dict.items():\n",
        "        reply_message += f'{item[0]} - {item[1]}\\n'\n",
        "\n",
        "    bot.reply_to(message, reply_message)\n",
        "\n",
        "\n",
        "@bot.message_handler(commands=touristic_command)\n",
        "def show_touristic_description(message):\n",
        "    bot.reply_to(message, touristic_description[message.text])\n",
        "\n",
        "\n",
        "@bot.message_handler(func=lambda message: True)\n",
        "def default(message):\n",
        "    bot.reply_to(message, \"\"\"Olá, seja bem vindo ao nosso catálogo de atrações turísticas\n",
        "    \n",
        "    /listar_cidades - Exibe as cidades disponíveis para a consulta\n",
        "    /lista_de_atracoes - Exibe as atrações disponíveis para a consulta\n",
        "        \"\"\")"
      ],
      "metadata": {
        "id": "3lIJQJBo1Wfk"
      },
      "execution_count": null,
      "outputs": []
    },
    {
      "cell_type": "code",
      "source": [
        "bot.remove_webhook()\n",
        "bot.polling() # Deve ficar executando para que mantenha a comunicação com o bot"
      ],
      "metadata": {
        "id": "srzw2EBHyjlt"
      },
      "execution_count": null,
      "outputs": []
    }
  ]
}